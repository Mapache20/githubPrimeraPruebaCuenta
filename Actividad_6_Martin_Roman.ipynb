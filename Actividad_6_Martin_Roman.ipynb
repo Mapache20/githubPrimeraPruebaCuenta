{
  "nbformat": 4,
  "nbformat_minor": 0,
  "metadata": {
    "colab": {
      "name": "Actividad_6_Martin_Roman.ipynb",
      "provenance": [],
      "collapsed_sections": [],
      "authorship_tag": "ABX9TyMqp47lV9f0st9Hkki3pEO0",
      "include_colab_link": true
    },
    "kernelspec": {
      "name": "python3",
      "display_name": "Python 3"
    },
    "language_info": {
      "name": "python"
    }
  },
  "cells": [
    {
      "cell_type": "markdown",
      "metadata": {
        "id": "view-in-github",
        "colab_type": "text"
      },
      "source": [
        "<a href=\"https://colab.research.google.com/github/Mapache20/githubPrimeraPruebaCuenta/blob/main/Actividad_6_Martin_Roman.ipynb\" target=\"_parent\"><img src=\"https://colab.research.google.com/assets/colab-badge.svg\" alt=\"Open In Colab\"/></a>"
      ]
    },
    {
      "cell_type": "code",
      "execution_count": null,
      "metadata": {
        "id": "67i1ZgseEQ9c",
        "colab": {
          "base_uri": "https://localhost:8080/"
        },
        "outputId": "2ebfc8d5-9525-4729-fd4b-604fa85a895c"
      },
      "outputs": [
        {
          "output_type": "stream",
          "name": "stdout",
          "text": [
            "Bienvenido martin Roman cuenta 50000\n",
            "Acaba de ingresar 10000 y su saldo es:  60000\n",
            "Bienvenido martin Roman cuenta 60000\n",
            "Acaba de retirar 5000 y su saldo es:  55000\n",
            "Bienvenido martin Roman cuenta 55000\n"
          ]
        }
      ],
      "source": [
        "\n",
        "# Crea una clase llamada Cuenta que tendrá los siguientes atributos: titular (que es una persona) y \n",
        "# cantidad(puede tener decimales). El titular será obligatorio y la cantidad es opcional. Construye los\n",
        "# siguientes métodos para cada clase:\n",
        "\n",
        "#. Un constructor.\n",
        "#. mostrar(): Muestra los datos de la cuenta.\n",
        "#. ingresar(cantidad): Se ingresa una cantidad a la cuenta, si la cantidad introducida es negativa, no se hará nada.\n",
        "#. retirar(cantidad): Se retira una cantidad a la cuenta. La cuenta puede estar en números rojos.\n",
        "\n",
        "# Creo la Clase\n",
        "class Cuenta:\n",
        "  \n",
        "#Creo el constructor\n",
        "    def __init__(self,nombre,apellido,cantidad):\n",
        "    #Atributos instancia\n",
        "     self.nombre= nombre\n",
        "     self.apellido=apellido\n",
        "     self.cantidad=cantidad\n",
        "    # método mostrar()\n",
        "\n",
        "    def mostrar(self):\n",
        "      print(\"Bienvenido\",self. nombre ,self. apellido,\"cuenta\",self. cantidad)\n",
        "\n",
        "    # método ingresar()\n",
        "    def ingresar(self,ingreso):\n",
        "      self.ingreso=ingreso\n",
        "      if ingreso>0:\n",
        "        self.cantidad+=self.ingreso\n",
        "        print(\"Acaba de ingresar\",self.ingreso,\"y su saldo es: \",self.cantidad)\n",
        "        \n",
        "      else:\n",
        "       print(\"Acaba de ingresar un número no válido\")\n",
        "      return self.ingreso\n",
        "     #método retirar() \n",
        "    def retirar(self,retiro):\n",
        "      self.retiro=retiro\n",
        "      if retiro>0:\n",
        "        self.cantidad-=self.retiro\n",
        "        print(\"Acaba de retirar\", self.retiro, \"y su saldo es: \", self.cantidad )\n",
        "\n",
        "     \n",
        "cuenta1=Cuenta(\"martin\",\"Roman\",50000)\n",
        "\n",
        "cuenta1.mostrar()\n",
        "cuenta1.ingresar(10000)\n",
        "cuenta1.mostrar()\n",
        "cuenta1.retirar(5000)\n",
        "cuenta1.mostrar()\n",
        "\n",
        "\n",
        "\n",
        "       \n"
      ]
    }
  ]
}